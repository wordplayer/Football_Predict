{
 "cells": [
  {
   "cell_type": "code",
   "execution_count": 1,
   "metadata": {},
   "outputs": [],
   "source": [
    "import numpy as np\n",
    "import matplotlib.pyplot as plt\n",
    "import pandas as pd"
   ]
  },
  {
   "cell_type": "code",
   "execution_count": 2,
   "metadata": {},
   "outputs": [],
   "source": [
    "data = pd.read_csv('2013-11-03_tromso_stromsgodset_raw_first.csv')"
   ]
  },
  {
   "cell_type": "code",
   "execution_count": 3,
   "metadata": {},
   "outputs": [
    {
     "name": "stdout",
     "output_type": "stream",
     "text": [
      "       Timestamp  Tag ID    x_pos     y_pos   heading  direction      energy  \\\n",
      "0        01:09.0       9  32.2538  12.72430  0.234750   0.000000   254.04000   \n",
      "1        01:09.0      13  21.1081  17.61800  1.413400   1.741270   202.25000   \n",
      "2        01:09.0      14  28.5255  17.53590  1.640910  -3.038100   190.64800   \n",
      "3        01:09.0      10  45.2474  14.46180  1.129020   0.000000   342.24400   \n",
      "4        01:09.0       8  28.5504  39.54940  0.927515   2.527040   304.31900   \n",
      "5        01:09.0       5  35.5428  30.31170  1.040150  -0.170872   364.37400   \n",
      "6        01:09.0      15  50.1131  25.70310  0.998494   2.717390   312.28500   \n",
      "7        01:09.0       2  26.6202  29.47660  0.809050   0.881905   150.66900   \n",
      "8        01:09.0       1  53.1384  44.06200  2.127050   0.000000   143.88800   \n",
      "9        01:09.0      12  74.5904  71.04800 -0.965478   0.000000     2.36761   \n",
      "10       01:09.0       7  41.5713  38.66240  2.303420  -2.262020   264.25400   \n",
      "11       01:09.1       9  32.2538  12.72430  0.231967   0.000000   254.04000   \n",
      "12       01:09.1      13  21.1546  17.60550  1.477820   1.861610   202.28300   \n",
      "13       01:09.1      14  28.5218  17.51250  1.606280  -2.962560   190.64800   \n",
      "14       01:09.1      10  45.2474  14.46180  1.128870   0.000000   342.24700   \n",
      "15       01:09.1       8  28.5801  39.50780  0.919296   2.519300   304.67500   \n",
      "16       01:09.1       5  35.5374  30.34380  0.987282  -0.167422   364.46100   \n",
      "17       01:09.1      15  50.1446  25.64510  0.965675   2.623170   312.28700   \n",
      "18       01:09.1       2  26.6566  29.50380  0.826678   0.948283   150.66900   \n",
      "19       01:09.1       1  53.1384  44.06200  2.080230   0.000000   143.88800   \n",
      "20       01:09.1      12  74.5904  71.04800 -0.965255   0.000000     2.36761   \n",
      "21       01:09.1       7  41.5567  38.65100  2.287880  -2.229560   264.26100   \n",
      "22       01:09.1       9  32.2538  12.72430  0.228643   0.000000   254.04100   \n",
      "23       01:09.1      13  21.2032  17.58670  1.510570   1.964150   202.99200   \n",
      "24       01:09.1      14  28.5170  17.49620  1.582130  -2.799230   190.64800   \n",
      "25       01:09.1      10  45.2474  14.46180  1.128080   0.000000   342.24900   \n",
      "26       01:09.1       8  28.6084  39.46930  0.982110   2.502230   306.29600   \n",
      "27       01:09.1       5  35.5316  30.37680  0.965463  -0.176996   364.50500   \n",
      "28       01:09.1      15  50.1817  25.58700  0.949386   2.558120   312.29000   \n",
      "29       01:09.1       2  26.6937  29.52750  0.844171   1.020810   150.67000   \n",
      "...          ...     ...      ...       ...       ...        ...         ...   \n",
      "625673   48:21.9       9  28.8860   9.34625 -1.031940  -0.181966  6395.12000   \n",
      "625674   48:21.9      14  35.9524  17.47100  1.607940   2.122940  8253.51000   \n",
      "625675   48:21.9      13  24.9449  26.98370  1.262100   2.668680  7893.35000   \n",
      "625676   48:21.9      15  49.9167  27.37360 -2.276100  -3.009270  6641.47000   \n",
      "625677   48:21.9      10  36.0255   8.92847 -0.393415   0.115697  9253.09000   \n",
      "625678   48:21.9       8  27.3388  41.46510  0.804142   0.761560  7226.97000   \n",
      "625679   48:21.9       2  26.0229  33.08840  0.335871  -0.003259  5980.37000   \n",
      "625680   48:21.9       7  33.2222  43.13500  1.668830   0.180739  6438.84000   \n",
      "625681   48:21.9      12  72.6697  71.72670 -0.963445   0.000000     2.37581   \n",
      "625682   48:21.9       5  36.3890  25.50210  0.446345   0.245507  9023.59000   \n",
      "625683   48:21.9       9  28.8755   9.41646 -0.982491  -0.137805  6395.18000   \n",
      "625684   48:21.9      14  35.9589  17.46700  1.505380   2.120030  8253.56000   \n",
      "625685   48:21.9      13  24.9901  26.90650  1.194540   2.591400  7893.38000   \n",
      "625686   48:21.9      15  49.9098  27.33340 -2.187210  -2.958720  6641.48000   \n",
      "625687   48:21.9      10  36.0360   8.99579 -0.364461   0.167530  9253.15000   \n",
      "625688   48:21.9       8  27.3834  41.51750  0.777764   0.688429  7226.97000   \n",
      "625689   48:21.9       2  26.0287  33.18800  0.301530   0.080263  5980.37000   \n",
      "625690   48:21.9       7  33.2397  43.23150  1.564820   0.178930  6438.91000   \n",
      "625691   48:21.9      12  72.6697  71.72670 -0.963428   0.000000     2.37582   \n",
      "625692   48:21.9       5  36.4013  25.56530  0.399255   0.176570  9023.64000   \n",
      "625693   48:22.0       9  28.8682   9.48530 -0.911390  -0.094066  6395.20000   \n",
      "625694   48:22.0      14  35.9626  17.46460  1.412600   2.151390  8253.59000   \n",
      "625695   48:22.0      13  25.0392  26.83690  1.141850   2.504810  7893.43000   \n",
      "625696   48:22.0      15  49.9009  27.29610 -2.096190  -2.886490  6641.50000   \n",
      "625697   48:22.0      10  36.0496   9.06174 -0.329687   0.215280  9253.25000   \n",
      "625698   48:22.0       8  27.4261  41.57280  0.762573   0.650587  7226.98000   \n",
      "625699   48:22.0       2  26.0429  33.28170  0.260647   0.175019  5980.39000   \n",
      "625700   48:22.0       7  33.2563  43.32330  1.504540   0.179098  6438.95000   \n",
      "625701   48:22.0      12  72.6697  71.72670 -0.963466   0.000000     2.37582   \n",
      "625702   48:22.0       5  36.4105  25.63330  0.368900   0.120930  9023.69000   \n",
      "\n",
      "           speed  total_distance  \n",
      "0       0.000000      329.554000  \n",
      "1       0.907549      241.842000  \n",
      "2       0.572368      241.965000  \n",
      "3       0.000000      349.529000  \n",
      "4       1.060790      250.349000  \n",
      "5       0.644301      297.906000  \n",
      "6       1.264160      306.795000  \n",
      "7       0.935549      255.647000  \n",
      "8       0.000000      236.971000  \n",
      "9       0.000000        0.285215  \n",
      "10      0.377474      311.243000  \n",
      "11      0.000000      329.554000  \n",
      "12      0.982651      241.890000  \n",
      "13      0.439148      241.989000  \n",
      "14      0.000000      349.529000  \n",
      "15      1.009000      250.400000  \n",
      "16      0.656534      297.938000  \n",
      "17      1.337380      306.861000  \n",
      "18      0.900879      255.692000  \n",
      "19      0.000000      236.971000  \n",
      "20      0.000000        0.285215  \n",
      "21      0.369916      311.261000  \n",
      "22      0.000000      329.554000  \n",
      "23      1.062350      241.943000  \n",
      "24      0.310209      242.006000  \n",
      "25      0.000000      349.529000  \n",
      "26      0.936470      250.448000  \n",
      "27      0.673362      297.972000  \n",
      "28      1.392030      306.930000  \n",
      "29      0.874058      255.736000  \n",
      "...          ...             ...  \n",
      "625673  1.447350     6045.920000  \n",
      "625674  0.195349     6692.600000  \n",
      "625675  1.859600     6317.510000  \n",
      "625676  0.854640     6448.640000  \n",
      "625677  1.373360     7176.980000  \n",
      "625678  1.351190     6067.810000  \n",
      "625679  2.083450     5848.870000  \n",
      "625680  2.033860     6622.730000  \n",
      "625681  0.000000        0.285215  \n",
      "625682  1.224850     6658.140000  \n",
      "625683  1.410700     6046.000000  \n",
      "625684  0.138110     6692.610000  \n",
      "625685  1.769110     6317.600000  \n",
      "625686  0.803809     6448.680000  \n",
      "625687  1.358900     7177.050000  \n",
      "625688  1.384120     6067.880000  \n",
      "625689  1.967850     5848.970000  \n",
      "625690  1.936740     6622.830000  \n",
      "625691  0.000000        0.285215  \n",
      "625692  1.309110     6658.200000  \n",
      "625693  1.375980     6046.060000  \n",
      "625694  0.071354     6692.620000  \n",
      "625695  1.679950     6317.690000  \n",
      "625696  0.752818     6448.720000  \n",
      "625697  1.342870     7177.110000  \n",
      "625698  1.399650     6067.950000  \n",
      "625699  1.875730     5849.060000  \n",
      "625700  1.841590     6622.920000  \n",
      "625701  0.000000        0.285215  \n",
      "625702  1.392620     6658.270000  \n",
      "\n",
      "[625703 rows x 9 columns]\n"
     ]
    }
   ],
   "source": [
    "print (data)"
   ]
  },
  {
   "cell_type": "code",
   "execution_count": 4,
   "metadata": {},
   "outputs": [
    {
     "name": "stdout",
     "output_type": "stream",
     "text": [
      "        index Timestamp  Tag ID    x_pos     y_pos   heading  direction  \\\n",
      "0           3   01:09.0      10  45.2474  14.46180  1.129020   0.000000   \n",
      "1          14   01:09.1      10  45.2474  14.46180  1.128870   0.000000   \n",
      "2          25   01:09.1      10  45.2474  14.46180  1.128080   0.000000   \n",
      "3          36   01:09.2      10  45.2474  14.46180  1.127140   0.000000   \n",
      "4          47   01:09.2      10  45.2474  14.46180  1.126060   0.000000   \n",
      "5          58   01:09.3      10  45.2474  14.46180  1.121490   0.000000   \n",
      "6          69   01:09.3      10  45.2474  14.46180  1.116700   0.000000   \n",
      "7          80   01:09.4      10  45.1139  14.45020  1.109390   2.998990   \n",
      "8          91   01:09.4      10  45.1145  14.44460  1.099080   3.037100   \n",
      "9         102   01:09.5      10  45.1148  14.43890  1.089940   3.110810   \n",
      "10        113   01:09.5      10  45.1147  14.43330  1.079540  -3.104700   \n",
      "11        124   01:09.6      10  45.1142  14.42770  1.062510  -3.049610   \n",
      "12        135   01:09.6      10  45.1134  14.42280  1.042050  -2.943200   \n",
      "13        146   01:09.7      10  45.1122  14.41850  1.025370  -2.838630   \n",
      "14        157   01:09.7      10  45.1108  14.41490  1.013630  -2.740900   \n",
      "15        168   01:09.8      10  45.1091  14.41230  1.006150  -2.521810   \n",
      "16        179   01:09.8      10  45.1073  14.41080  1.003370  -2.175960   \n",
      "17        190   01:09.9      10  45.1057  14.41020  1.002670  -1.727640   \n",
      "18        201   01:09.9      10  45.1041  14.41100  1.009240  -0.924165   \n",
      "19        212   01:10.0      10  45.1027  14.41320  1.024450  -0.475981   \n",
      "20        223   01:10.0      10  45.1018  14.41630  1.047910  -0.214972   \n",
      "21        234   01:10.1      10  45.1014  14.42060  1.079610  -0.050487   \n",
      "22        245   01:10.1      10  45.1017  14.42620  1.118720   0.064831   \n",
      "23        256   01:10.2      10  45.1028  14.43250  1.146770   0.195480   \n",
      "24        267   01:10.2      10  45.1046  14.43960  1.159840   0.269661   \n",
      "25        278   01:10.3      10  45.1073  14.44760  1.152060   0.352727   \n",
      "26        289   01:10.3      10  45.1110  14.45580  1.127180   0.440509   \n",
      "27        300   01:10.4      10  45.1155  14.46440  1.089300   0.499934   \n",
      "28        311   01:10.4      10  45.1208  14.47300  1.063920   0.567958   \n",
      "29        322   01:10.5      10  45.1269  14.48140  1.047780   0.646931   \n",
      "...       ...       ...     ...      ...       ...       ...        ...   \n",
      "56631  625392   48:20.5      10  37.3273   6.89586  0.189798  -0.922692   \n",
      "56632  625403   48:20.6      10  37.2553   6.95288  0.163953  -0.894337   \n",
      "56633  625414   48:20.6      10  37.1814   7.01451  0.151226  -0.870374   \n",
      "56634  625425   48:20.7      10  37.1058   7.08033  0.105299  -0.848978   \n",
      "56635  625436   48:20.7      10  37.0290   7.14991  0.043535  -0.830206   \n",
      "56636  625447   48:20.8      10  36.9514   7.22281 -0.011023  -0.812641   \n",
      "56637  625458   48:20.8      10  36.8735   7.29848 -0.064224  -0.795499   \n",
      "56638  625469   48:20.9      10  36.7959   7.37644 -0.101117  -0.778657   \n",
      "56639  625480   48:20.9      10  36.7192   7.45621 -0.156962  -0.761266   \n",
      "56640  625491   48:21.0      10  36.6441   7.53734 -0.226988  -0.742095   \n",
      "56641  625502   48:21.0      10  36.5710   7.61960 -0.265353  -0.720723   \n",
      "56642  625513   48:21.1      10  36.5006   7.70247 -0.272506  -0.698350   \n",
      "56643  625524   48:21.1      10  36.4337   7.78546 -0.280598  -0.671926   \n",
      "56644  625535   48:21.2      10  36.3706   7.86818 -0.325958  -0.644070   \n",
      "56645  625546   48:21.2      10  36.3119   7.95041 -0.387368  -0.612119   \n",
      "56646  625557   48:21.3      10  36.2579   8.03195 -0.424484  -0.573705   \n",
      "56647  625567   48:21.3      10  36.2093   8.11268 -0.442143  -0.531801   \n",
      "56648  625577   48:21.4      10  36.1660   8.19238 -0.465108  -0.485985   \n",
      "56649  625587   48:21.4      10  36.1282   8.27098 -0.509179  -0.433713   \n",
      "56650  625597   48:21.5      10  36.0961   8.34852 -0.560909  -0.379152   \n",
      "56651  625607   48:21.5      10  36.0695   8.42484 -0.590711  -0.320192   \n",
      "56652  625617   48:21.6      10  36.0484   8.50003 -0.591757  -0.256815   \n",
      "56653  625627   48:21.6      10  36.0327   8.57419 -0.581653  -0.191483   \n",
      "56654  625637   48:21.7      10  36.0222   8.64727 -0.564051  -0.126860   \n",
      "56655  625647   48:21.7      10  36.0165   8.71926 -0.524447  -0.063193   \n",
      "56656  625657   48:21.8      10  36.0154   8.79022 -0.467966  -0.000540   \n",
      "56657  625667   48:21.8      10  36.0185   8.85998 -0.421867   0.059928   \n",
      "56658  625677   48:21.9      10  36.0255   8.92847 -0.393415   0.115697   \n",
      "56659  625687   48:21.9      10  36.0360   8.99579 -0.364461   0.167530   \n",
      "56660  625697   48:22.0      10  36.0496   9.06174 -0.329687   0.215280   \n",
      "\n",
      "         energy     speed  total_distance  \n",
      "0       342.244  0.000000         349.529  \n",
      "1       342.247  0.000000         349.529  \n",
      "2       342.249  0.000000         349.529  \n",
      "3       342.251  0.000000         349.529  \n",
      "4       342.253  0.000000         349.529  \n",
      "5       342.255  0.000000         349.529  \n",
      "6       342.258  0.000000         349.529  \n",
      "7       342.259  0.106288         349.534  \n",
      "8       342.260  0.115567         349.539  \n",
      "9       342.260  0.114037         349.545  \n",
      "10      342.260  0.111694         349.551  \n",
      "11      342.261  0.109640         349.556  \n",
      "12      342.262  0.097548         349.561  \n",
      "13      342.263  0.085410         349.566  \n",
      "14      342.263  0.075110         349.570  \n",
      "15      342.264  0.057267         349.573  \n",
      "16      342.265  0.043787         349.575  \n",
      "17      342.267  0.033214         349.577  \n",
      "18      342.268  0.039002         349.579  \n",
      "19      342.269  0.053947         349.581  \n",
      "20      342.269  0.069384         349.585  \n",
      "21      342.270  0.093732         349.589  \n",
      "22      342.272  0.115408         349.595  \n",
      "23      342.277  0.132762         349.601  \n",
      "24      342.281  0.154074         349.608  \n",
      "25      342.286  0.171379         349.617  \n",
      "26      342.288  0.182862         349.626  \n",
      "27      342.291  0.197034         349.635  \n",
      "28      342.293  0.204808         349.646  \n",
      "29      342.297  0.209108         349.656  \n",
      "...         ...       ...             ...  \n",
      "56631  9249.270  1.766980        7174.470  \n",
      "56632  9249.320  1.860110        7174.560  \n",
      "56633  9249.430  1.946440        7174.650  \n",
      "56634  9249.640  2.022500        7174.750  \n",
      "56635  9249.890  2.089300        7174.860  \n",
      "56636  9250.030  2.142430        7174.960  \n",
      "56637  9250.150  2.180460        7175.070  \n",
      "56638  9250.810  2.204770        7175.180  \n",
      "56639  9251.590  2.213930        7175.290  \n",
      "56640  9251.850  2.210140        7175.400  \n",
      "56641  9251.950  2.196350        7175.510  \n",
      "56642  9252.070  2.165330        7175.620  \n",
      "56643  9252.170  2.120560        7175.730  \n",
      "56644  9252.280  2.066250        7175.830  \n",
      "56645  9252.350  2.005990        7175.930  \n",
      "56646  9252.420  1.937330        7176.030  \n",
      "56647  9252.530  1.868060        7176.130  \n",
      "56648  9252.650  1.796440        7176.220  \n",
      "56649  9252.730  1.726510        7176.300  \n",
      "56650  9252.750  1.663430        7176.390  \n",
      "56651  9252.770  1.601760        7176.470  \n",
      "56652  9252.830  1.549300        7176.550  \n",
      "56653  9252.900  1.505720        7176.620  \n",
      "56654  9252.950  1.467750        7176.700  \n",
      "56655  9253.010  1.437650        7176.770  \n",
      "56656  9253.040  1.413610        7176.840  \n",
      "56657  9253.060  1.391050        7176.910  \n",
      "56658  9253.090  1.373360        7176.980  \n",
      "56659  9253.150  1.358900        7177.050  \n",
      "56660  9253.250  1.342870        7177.110  \n",
      "\n",
      "[56661 rows x 10 columns]\n"
     ]
    }
   ],
   "source": [
    "data_1 = data.loc[data['Tag ID'] == 10].reset_index()\n",
    "print (data_1)"
   ]
  },
  {
   "cell_type": "code",
   "execution_count": 5,
   "metadata": {},
   "outputs": [],
   "source": [
    "v = data_1['speed'].values"
   ]
  },
  {
   "cell_type": "code",
   "execution_count": 6,
   "metadata": {},
   "outputs": [],
   "source": [
    "def distance(x, y):\n",
    "    return np.sqrt((x[1] - x[0])**2 + (y[1]-y[0])**2)"
   ]
  },
  {
   "cell_type": "code",
   "execution_count": 7,
   "metadata": {},
   "outputs": [],
   "source": [
    "def transform(x, y):\n",
    "    theta = np.arctan2(y[1] - y[0], x[1] - x[0]) - np.arctan2(y[2]-y[1], x[2] - x[1])\n",
    "    r = distance([x[1], x[2]], [y[1], y[2]])\n",
    "    return r, theta"
   ]
  },
  {
   "cell_type": "code",
   "execution_count": 8,
   "metadata": {},
   "outputs": [],
   "source": [
    "polar = pd.DataFrame(columns = ['r', 'theta'])"
   ]
  },
  {
   "cell_type": "code",
   "execution_count": 9,
   "metadata": {},
   "outputs": [],
   "source": [
    "k = 0"
   ]
  },
  {
   "cell_type": "code",
   "execution_count": 10,
   "metadata": {},
   "outputs": [],
   "source": [
    "for i in range(data_1.shape[0]-2):\n",
    "    x = data_1.loc[i:i+2]['x_pos'].values\n",
    "    y = data_1.loc[i:i+2]['y_pos'].values\n",
    "    r, theta = transform(x, y)\n",
    "    if r < 1:\n",
    "        polar.loc[k] = [r, theta]\n",
    "        k = k + 1"
   ]
  },
  {
   "cell_type": "markdown",
   "metadata": {},
   "source": [
    "## For univariate KDE, combining r and theta as one variable for position (used by Brefeld)"
   ]
  },
  {
   "cell_type": "code",
   "execution_count": 17,
   "metadata": {},
   "outputs": [
    {
     "name": "stdout",
     "output_type": "stream",
     "text": [
      "0.38841512969404435\n"
     ]
    }
   ],
   "source": [
    "print (polar.values.std(ddof = 1))"
   ]
  },
  {
   "cell_type": "markdown",
   "metadata": {},
   "source": [
    "## For multivariate KDE, treating r and theta as different variables"
   ]
  },
  {
   "cell_type": "code",
   "execution_count": 15,
   "metadata": {},
   "outputs": [
    {
     "name": "stdout",
     "output_type": "stream",
     "text": [
      "0.0772970364383424\n"
     ]
    }
   ],
   "source": [
    "print (polar['r'].values.std(ddof = 1))"
   ]
  },
  {
   "cell_type": "code",
   "execution_count": 18,
   "metadata": {},
   "outputs": [
    {
     "name": "stdout",
     "output_type": "stream",
     "text": [
      "0.5370991116703289\n"
     ]
    }
   ],
   "source": [
    "print (polar['theta'].values.std(ddof = 1))"
   ]
  },
  {
   "cell_type": "markdown",
   "metadata": {},
   "source": [
    "## Bandwidth estimation using Silverman's rule of thumb for univariate data"
   ]
  },
  {
   "cell_type": "code",
   "execution_count": 20,
   "metadata": {},
   "outputs": [
    {
     "name": "stdout",
     "output_type": "stream",
     "text": [
      "0.04609313388324468\n"
     ]
    }
   ],
   "source": [
    "print ((4.0*polar.values.std(ddof = 1)**5/(3.0*polar.shape[0]))**(0.2))"
   ]
  },
  {
   "cell_type": "code",
   "execution_count": 21,
   "metadata": {},
   "outputs": [
    {
     "data": {
      "image/png": "[encoded data removed]",
      "text/plain": [
       "<Figure size 432x288 with 1 Axes>"
      ]
     },
     "metadata": {
      "needs_background": "light"
     },
     "output_type": "display_data"
    }
   ],
   "source": [
    "plt.scatter(polar['r'].values, polar['theta'].values)\n",
    "plt.xlabel('r')\n",
    "plt.ylabel('theta')\n",
    "plt.show()"
   ]
  },
  {
   "cell_type": "markdown",
   "metadata": {},
   "source": [
    "## Generating the 2-D Kernel Density Estimate"
   ]
  },
  {
   "cell_type": "code",
   "execution_count": 13,
   "metadata": {},
   "outputs": [],
   "source": [
    "import scipy.stats"
   ]
  },
  {
   "cell_type": "code",
   "execution_count": 46,
   "metadata": {},
   "outputs": [],
   "source": [
    "kernel = scipy.stats.gaussian_kde(polar.loc[0: 1000], bw_method = 'scott')"
   ]
  },
  {
   "cell_type": "code",
   "execution_count": 41,
   "metadata": {},
   "outputs": [
    {
     "ename": "TypeError",
     "evalue": "float() argument must be a string or a number, not 'gaussian_kde'",
     "output_type": "error",
     "traceback": [
      "\u001b[0;31m---------------------------------------------------------------------------\u001b[0m",
      "\u001b[0;31mTypeError\u001b[0m                                 Traceback (most recent call last)",
      "\u001b[0;32m<ipython-input-41-5b4fc6939126>\u001b[0m in \u001b[0;36m<module>\u001b[0;34m()\u001b[0m\n\u001b[1;32m      1\u001b[0m \u001b[0mfig\u001b[0m \u001b[0;34m=\u001b[0m \u001b[0mplt\u001b[0m\u001b[0;34m.\u001b[0m\u001b[0mfigure\u001b[0m\u001b[0;34m(\u001b[0m\u001b[0;34m)\u001b[0m\u001b[0;34m\u001b[0m\u001b[0;34m\u001b[0m\u001b[0m\n\u001b[1;32m      2\u001b[0m \u001b[0max\u001b[0m \u001b[0;34m=\u001b[0m \u001b[0mfig\u001b[0m\u001b[0;34m.\u001b[0m\u001b[0mgca\u001b[0m\u001b[0;34m(\u001b[0m\u001b[0;34m)\u001b[0m\u001b[0;34m\u001b[0m\u001b[0;34m\u001b[0m\u001b[0m\n\u001b[0;32m----> 3\u001b[0;31m \u001b[0mcset\u001b[0m \u001b[0;34m=\u001b[0m \u001b[0max\u001b[0m\u001b[0;34m.\u001b[0m\u001b[0mcontour\u001b[0m\u001b[0;34m(\u001b[0m\u001b[0mpolar\u001b[0m\u001b[0;34m,\u001b[0m \u001b[0mkernel\u001b[0m\u001b[0;34m,\u001b[0m \u001b[0mcmap\u001b[0m \u001b[0;34m=\u001b[0m \u001b[0;34m'Blues'\u001b[0m\u001b[0;34m)\u001b[0m\u001b[0;34m\u001b[0m\u001b[0;34m\u001b[0m\u001b[0m\n\u001b[0m\u001b[1;32m      4\u001b[0m \u001b[0mplt\u001b[0m\u001b[0;34m.\u001b[0m\u001b[0mshow\u001b[0m\u001b[0;34m(\u001b[0m\u001b[0;34m)\u001b[0m\u001b[0;34m\u001b[0m\u001b[0;34m\u001b[0m\u001b[0m\n",
      "\u001b[0;32m/opt/conda/lib/python3.6/site-packages/matplotlib/__init__.py\u001b[0m in \u001b[0;36minner\u001b[0;34m(ax, data, *args, **kwargs)\u001b[0m\n\u001b[1;32m   1808\u001b[0m                         \u001b[0;34m\"the Matplotlib list!)\"\u001b[0m \u001b[0;34m%\u001b[0m \u001b[0;34m(\u001b[0m\u001b[0mlabel_namer\u001b[0m\u001b[0;34m,\u001b[0m \u001b[0mfunc\u001b[0m\u001b[0;34m.\u001b[0m\u001b[0m__name__\u001b[0m\u001b[0;34m)\u001b[0m\u001b[0;34m,\u001b[0m\u001b[0;34m\u001b[0m\u001b[0;34m\u001b[0m\u001b[0m\n\u001b[1;32m   1809\u001b[0m                         RuntimeWarning, stacklevel=2)\n\u001b[0;32m-> 1810\u001b[0;31m             \u001b[0;32mreturn\u001b[0m \u001b[0mfunc\u001b[0m\u001b[0;34m(\u001b[0m\u001b[0max\u001b[0m\u001b[0;34m,\u001b[0m \u001b[0;34m*\u001b[0m\u001b[0margs\u001b[0m\u001b[0;34m,\u001b[0m \u001b[0;34m**\u001b[0m\u001b[0mkwargs\u001b[0m\u001b[0;34m)\u001b[0m\u001b[0;34m\u001b[0m\u001b[0;34m\u001b[0m\u001b[0m\n\u001b[0m\u001b[1;32m   1811\u001b[0m \u001b[0;34m\u001b[0m\u001b[0m\n\u001b[1;32m   1812\u001b[0m         inner.__doc__ = _add_data_doc(inner.__doc__,\n",
      "\u001b[0;32m/opt/conda/lib/python3.6/site-packages/matplotlib/axes/_axes.py\u001b[0m in \u001b[0;36mcontour\u001b[0;34m(self, *args, **kwargs)\u001b[0m\n\u001b[1;32m   6229\u001b[0m     \u001b[0;32mdef\u001b[0m \u001b[0mcontour\u001b[0m\u001b[0;34m(\u001b[0m\u001b[0mself\u001b[0m\u001b[0;34m,\u001b[0m \u001b[0;34m*\u001b[0m\u001b[0margs\u001b[0m\u001b[0;34m,\u001b[0m \u001b[0;34m**\u001b[0m\u001b[0mkwargs\u001b[0m\u001b[0;34m)\u001b[0m\u001b[0;34m:\u001b[0m\u001b[0;34m\u001b[0m\u001b[0;34m\u001b[0m\u001b[0m\n\u001b[1;32m   6230\u001b[0m         \u001b[0mkwargs\u001b[0m\u001b[0;34m[\u001b[0m\u001b[0;34m'filled'\u001b[0m\u001b[0;34m]\u001b[0m \u001b[0;34m=\u001b[0m \u001b[0;32mFalse\u001b[0m\u001b[0;34m\u001b[0m\u001b[0;34m\u001b[0m\u001b[0m\n\u001b[0;32m-> 6231\u001b[0;31m         \u001b[0mcontours\u001b[0m \u001b[0;34m=\u001b[0m \u001b[0mmcontour\u001b[0m\u001b[0;34m.\u001b[0m\u001b[0mQuadContourSet\u001b[0m\u001b[0;34m(\u001b[0m\u001b[0mself\u001b[0m\u001b[0;34m,\u001b[0m \u001b[0;34m*\u001b[0m\u001b[0margs\u001b[0m\u001b[0;34m,\u001b[0m \u001b[0;34m**\u001b[0m\u001b[0mkwargs\u001b[0m\u001b[0;34m)\u001b[0m\u001b[0;34m\u001b[0m\u001b[0;34m\u001b[0m\u001b[0m\n\u001b[0m\u001b[1;32m   6232\u001b[0m         \u001b[0mself\u001b[0m\u001b[0;34m.\u001b[0m\u001b[0mautoscale_view\u001b[0m\u001b[0;34m(\u001b[0m\u001b[0;34m)\u001b[0m\u001b[0;34m\u001b[0m\u001b[0;34m\u001b[0m\u001b[0m\n\u001b[1;32m   6233\u001b[0m         \u001b[0;32mreturn\u001b[0m \u001b[0mcontours\u001b[0m\u001b[0;34m\u001b[0m\u001b[0;34m\u001b[0m\u001b[0m\n",
      "\u001b[0;32m/opt/conda/lib/python3.6/site-packages/matplotlib/contour.py\u001b[0m in \u001b[0;36m__init__\u001b[0;34m(self, ax, levels, filled, linewidths, linestyles, alpha, origin, extent, cmap, colors, norm, vmin, vmax, extend, antialiased, *args, **kwargs)\u001b[0m\n\u001b[1;32m    885\u001b[0m         \u001b[0mself\u001b[0m\u001b[0;34m.\u001b[0m\u001b[0m_transform\u001b[0m \u001b[0;34m=\u001b[0m \u001b[0mkwargs\u001b[0m\u001b[0;34m.\u001b[0m\u001b[0mpop\u001b[0m\u001b[0;34m(\u001b[0m\u001b[0;34m'transform'\u001b[0m\u001b[0;34m,\u001b[0m \u001b[0;32mNone\u001b[0m\u001b[0;34m)\u001b[0m\u001b[0;34m\u001b[0m\u001b[0;34m\u001b[0m\u001b[0m\n\u001b[1;32m    886\u001b[0m \u001b[0;34m\u001b[0m\u001b[0m\n\u001b[0;32m--> 887\u001b[0;31m         \u001b[0mkwargs\u001b[0m \u001b[0;34m=\u001b[0m \u001b[0mself\u001b[0m\u001b[0;34m.\u001b[0m\u001b[0m_process_args\u001b[0m\u001b[0;34m(\u001b[0m\u001b[0;34m*\u001b[0m\u001b[0margs\u001b[0m\u001b[0;34m,\u001b[0m \u001b[0;34m**\u001b[0m\u001b[0mkwargs\u001b[0m\u001b[0;34m)\u001b[0m\u001b[0;34m\u001b[0m\u001b[0;34m\u001b[0m\u001b[0m\n\u001b[0m\u001b[1;32m    888\u001b[0m         \u001b[0mself\u001b[0m\u001b[0;34m.\u001b[0m\u001b[0m_process_levels\u001b[0m\u001b[0;34m(\u001b[0m\u001b[0;34m)\u001b[0m\u001b[0;34m\u001b[0m\u001b[0;34m\u001b[0m\u001b[0m\n\u001b[1;32m    889\u001b[0m \u001b[0;34m\u001b[0m\u001b[0m\n",
      "\u001b[0;32m/opt/conda/lib/python3.6/site-packages/matplotlib/contour.py\u001b[0m in \u001b[0;36m_process_args\u001b[0;34m(self, *args, **kwargs)\u001b[0m\n\u001b[1;32m   1491\u001b[0m                 \u001b[0mself\u001b[0m\u001b[0;34m.\u001b[0m\u001b[0m_corner_mask\u001b[0m \u001b[0;34m=\u001b[0m \u001b[0mmpl\u001b[0m\u001b[0;34m.\u001b[0m\u001b[0mrcParams\u001b[0m\u001b[0;34m[\u001b[0m\u001b[0;34m'contour.corner_mask'\u001b[0m\u001b[0;34m]\u001b[0m\u001b[0;34m\u001b[0m\u001b[0;34m\u001b[0m\u001b[0m\n\u001b[1;32m   1492\u001b[0m \u001b[0;34m\u001b[0m\u001b[0m\n\u001b[0;32m-> 1493\u001b[0;31m             \u001b[0mx\u001b[0m\u001b[0;34m,\u001b[0m \u001b[0my\u001b[0m\u001b[0;34m,\u001b[0m \u001b[0mz\u001b[0m \u001b[0;34m=\u001b[0m \u001b[0mself\u001b[0m\u001b[0;34m.\u001b[0m\u001b[0m_contour_args\u001b[0m\u001b[0;34m(\u001b[0m\u001b[0margs\u001b[0m\u001b[0;34m,\u001b[0m \u001b[0mkwargs\u001b[0m\u001b[0;34m)\u001b[0m\u001b[0;34m\u001b[0m\u001b[0;34m\u001b[0m\u001b[0m\n\u001b[0m\u001b[1;32m   1494\u001b[0m \u001b[0;34m\u001b[0m\u001b[0m\n\u001b[1;32m   1495\u001b[0m             \u001b[0m_mask\u001b[0m \u001b[0;34m=\u001b[0m \u001b[0mma\u001b[0m\u001b[0;34m.\u001b[0m\u001b[0mgetmask\u001b[0m\u001b[0;34m(\u001b[0m\u001b[0mz\u001b[0m\u001b[0;34m)\u001b[0m\u001b[0;34m\u001b[0m\u001b[0;34m\u001b[0m\u001b[0m\n",
      "\u001b[0;32m/opt/conda/lib/python3.6/site-packages/matplotlib/contour.py\u001b[0m in \u001b[0;36m_contour_args\u001b[0;34m(self, args, kwargs)\u001b[0m\n\u001b[1;32m   1561\u001b[0m             \u001b[0mwarnings\u001b[0m\u001b[0;34m.\u001b[0m\u001b[0mwarn\u001b[0m\u001b[0;34m(\u001b[0m\u001b[0;34m'Log scale: values of z <= 0 have been masked'\u001b[0m\u001b[0;34m)\u001b[0m\u001b[0;34m\u001b[0m\u001b[0;34m\u001b[0m\u001b[0m\n\u001b[1;32m   1562\u001b[0m             \u001b[0mself\u001b[0m\u001b[0;34m.\u001b[0m\u001b[0mzmin\u001b[0m \u001b[0;34m=\u001b[0m \u001b[0mfloat\u001b[0m\u001b[0;34m(\u001b[0m\u001b[0mz\u001b[0m\u001b[0;34m.\u001b[0m\u001b[0mmin\u001b[0m\u001b[0;34m(\u001b[0m\u001b[0;34m)\u001b[0m\u001b[0;34m)\u001b[0m\u001b[0;34m\u001b[0m\u001b[0;34m\u001b[0m\u001b[0m\n\u001b[0;32m-> 1563\u001b[0;31m         \u001b[0mself\u001b[0m\u001b[0;34m.\u001b[0m\u001b[0m_contour_level_args\u001b[0m\u001b[0;34m(\u001b[0m\u001b[0mz\u001b[0m\u001b[0;34m,\u001b[0m \u001b[0margs\u001b[0m\u001b[0;34m)\u001b[0m\u001b[0;34m\u001b[0m\u001b[0;34m\u001b[0m\u001b[0m\n\u001b[0m\u001b[1;32m   1564\u001b[0m         \u001b[0;32mreturn\u001b[0m \u001b[0;34m(\u001b[0m\u001b[0mx\u001b[0m\u001b[0;34m,\u001b[0m \u001b[0my\u001b[0m\u001b[0;34m,\u001b[0m \u001b[0mz\u001b[0m\u001b[0;34m)\u001b[0m\u001b[0;34m\u001b[0m\u001b[0;34m\u001b[0m\u001b[0m\n\u001b[1;32m   1565\u001b[0m \u001b[0;34m\u001b[0m\u001b[0m\n",
      "\u001b[0;32m/opt/conda/lib/python3.6/site-packages/matplotlib/contour.py\u001b[0m in \u001b[0;36m_contour_level_args\u001b[0;34m(self, z, args)\u001b[0m\n\u001b[1;32m   1234\u001b[0m             \u001b[0mself\u001b[0m\u001b[0;34m.\u001b[0m\u001b[0mlevels\u001b[0m \u001b[0;34m=\u001b[0m \u001b[0mself\u001b[0m\u001b[0;34m.\u001b[0m\u001b[0m_autolev\u001b[0m\u001b[0;34m(\u001b[0m\u001b[0mlevels_arg\u001b[0m\u001b[0;34m)\u001b[0m\u001b[0;34m\u001b[0m\u001b[0;34m\u001b[0m\u001b[0m\n\u001b[1;32m   1235\u001b[0m         \u001b[0;32melse\u001b[0m\u001b[0;34m:\u001b[0m\u001b[0;34m\u001b[0m\u001b[0;34m\u001b[0m\u001b[0m\n\u001b[0;32m-> 1236\u001b[0;31m             \u001b[0mself\u001b[0m\u001b[0;34m.\u001b[0m\u001b[0mlevels\u001b[0m \u001b[0;34m=\u001b[0m \u001b[0mnp\u001b[0m\u001b[0;34m.\u001b[0m\u001b[0masarray\u001b[0m\u001b[0;34m(\u001b[0m\u001b[0mlevels_arg\u001b[0m\u001b[0;34m)\u001b[0m\u001b[0;34m.\u001b[0m\u001b[0mastype\u001b[0m\u001b[0;34m(\u001b[0m\u001b[0mnp\u001b[0m\u001b[0;34m.\u001b[0m\u001b[0mfloat64\u001b[0m\u001b[0;34m)\u001b[0m\u001b[0;34m\u001b[0m\u001b[0;34m\u001b[0m\u001b[0m\n\u001b[0m\u001b[1;32m   1237\u001b[0m \u001b[0;34m\u001b[0m\u001b[0m\n\u001b[1;32m   1238\u001b[0m         \u001b[0;32mif\u001b[0m \u001b[0;32mnot\u001b[0m \u001b[0mself\u001b[0m\u001b[0;34m.\u001b[0m\u001b[0mfilled\u001b[0m\u001b[0;34m:\u001b[0m\u001b[0;34m\u001b[0m\u001b[0;34m\u001b[0m\u001b[0m\n",
      "\u001b[0;31mTypeError\u001b[0m: float() argument must be a string or a number, not 'gaussian_kde'"
     ]
    },
    {
     "data": {
      "image/png": "[encoded data removed]",
      "text/plain": [
       "<Figure size 432x288 with 1 Axes>"
      ]
     },
     "metadata": {
      "needs_background": "light"
     },
     "output_type": "display_data"
    }
   ],
   "source": [
    "fig = plt.figure()\n",
    "ax = fig.gca()\n",
    "cset = ax.contour(polar, kernel, cmap = 'Blues')\n",
    "plt.show()"
   ]
  },
  {
   "cell_type": "code",
   "execution_count": 47,
   "metadata": {},
   "outputs": [
    {
     "name": "stderr",
     "output_type": "stream",
     "text": [
      "/opt/conda/lib/python3.6/site-packages/scipy/stats/kde.py:224: RuntimeWarning: invalid value encountered in true_divide\n",
      "  result = result / self._norm_factor\n"
     ]
    }
   ],
   "source": [
    "res = kernel.pdf(polar.loc[1000:2000])"
   ]
  },
  {
   "cell_type": "code",
   "execution_count": 48,
   "metadata": {},
   "outputs": [
    {
     "name": "stdout",
     "output_type": "stream",
     "text": [
      "[nan inf]\n"
     ]
    }
   ],
   "source": [
    "print (res)"
   ]
  },
  {
   "cell_type": "code",
   "execution_count": null,
   "metadata": {},
   "outputs": [],
   "source": []
  }
 ],
 "metadata": {
  "kernelspec": {
   "display_name": "Python 3",
   "language": "python",
   "name": "python3"
  },
  "language_info": {
   "codemirror_mode": {
    "name": "ipython",
    "version": 3
   },
   "file_extension": ".py",
   "mimetype": "text/x-python",
   "name": "python",
   "nbconvert_exporter": "python",
   "pygments_lexer": "ipython3",
   "version": "3.6.8"
  }
 },
 "nbformat": 4,
 "nbformat_minor": 2
}
